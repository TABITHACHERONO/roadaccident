{
  "nbformat": 4,
  "nbformat_minor": 0,
  "metadata": {
    "colab": {
      "provenance": []
    },
    "kernelspec": {
      "name": "python3",
      "display_name": "Python 3"
    },
    "language_info": {
      "name": "python"
    }
  },
  "cells": [
    {
      "cell_type": "code",
      "execution_count": null,
      "metadata": {
        "id": "gQzyTF7NbvED"
      },
      "outputs": [],
      "source": [
        "import pandas as pd\n",
        "from sklearn.model_selection import train_test_split\n",
        "from sklearn.linear_model import LinearRegression\n",
        "from sklearn.metrics import mean_squared_error\n",
        "import joblib\n",
        "data_path = r\"C:\\xampp\\htdocs\\Road Accident Data.csv\"\n",
        "data = pd.read_csv(data_path)\n",
        "\n",
        "\n",
        "\n",
        "X = data[['weather_conditions', 'time_of_day', 'road_conditions', 'speed', 'traffic_density']]\n",
        "y = data['accident_severity']\n",
        "\n",
        "\n",
        "X_train, X_test, y_train, y_test = train_test_split(X, y, test_size=0.3, random_state=42)\n",
        "\n",
        "model = LinearRegression()\n",
        "model.fit(X_train, y_train)\n",
        "\n",
        "predictions = model.predict(X_test)\n",
        "mse = mean_squared_error(y_test, predictions)\n",
        "print(f'Mean Squared Error: {mse}')\n",
        "\n",
        "\n",
        "joblib.dump(model, 'road_accident_severity_model.pkl')\n",
        "\n",
        "\n",
        "hypothetical_input = [[1, 12, 1, 80, 50]]\n",
        "severity_prediction = model.predict(hypothetical_input)\n",
        "print(f'Predicted accident severity: {severity_prediction}')\n"
      ]
    }
  ]
}